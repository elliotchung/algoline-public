{
 "cells": [
  {
   "cell_type": "code",
   "execution_count": 1,
   "metadata": {},
   "outputs": [],
   "source": [
    "import pandas as pd\n",
    "import numpy as np\n",
    "import time\n",
    "from psycopg2 import sql\n",
    "import psycopg2\n",
    "import secret"
   ]
  },
  {
   "cell_type": "markdown",
   "metadata": {},
   "source": [
    "# Connect to database and get df\n",
    "**My dataset consists of stocks in the S&P500**\n",
    "```\n",
    "id |symbol|\n",
    "---+------+\n",
    "504|A     |\n",
    "505|AAL   |\n",
    "506|AAP   |\n",
    "507|AAPL  |\n",
    "```"
   ]
  },
  {
   "cell_type": "code",
   "execution_count": 2,
   "metadata": {},
   "outputs": [],
   "source": [
    "def get_df(stock_id):\n",
    "    conn = psycopg2.connect(\n",
    "    dbname=secret.details['dbname'],\n",
    "    user=secret.details['user'],\n",
    "    password=secret.details['password'],\n",
    "    host=secret.details['host'],\n",
    "    port=secret.details['port']\n",
    "    )\n",
    "    # Create a cursor object to execute SQL statements\n",
    "    cursor = conn.cursor()\n",
    "    cursor.execute(\n",
    "        sql.SQL(\"select * from stock_price where stock_id = %s order by date asc;\"),\n",
    "        [stock_id]\n",
    "    )\n",
    "    data = cursor.fetchall()\n",
    "    columns = [desc[0] for desc in cursor.description]\n",
    "    df = pd.DataFrame(data, columns=columns)\n",
    "    df = df.sort_values(by='date')\n",
    "    df = df.reset_index(drop=True)\n",
    "    cursor.close()\n",
    "    conn.close()\n",
    "    return df"
   ]
  },
  {
   "cell_type": "code",
   "execution_count": 3,
   "metadata": {},
   "outputs": [],
   "source": [
    "df = get_df(505)"
   ]
  },
  {
   "cell_type": "code",
   "execution_count": 4,
   "metadata": {},
   "outputs": [
    {
     "data": {
      "text/html": [
       "<div>\n",
       "<style scoped>\n",
       "    .dataframe tbody tr th:only-of-type {\n",
       "        vertical-align: middle;\n",
       "    }\n",
       "\n",
       "    .dataframe tbody tr th {\n",
       "        vertical-align: top;\n",
       "    }\n",
       "\n",
       "    .dataframe thead th {\n",
       "        text-align: right;\n",
       "    }\n",
       "</style>\n",
       "<table border=\"1\" class=\"dataframe\">\n",
       "  <thead>\n",
       "    <tr style=\"text-align: right;\">\n",
       "      <th></th>\n",
       "      <th>id</th>\n",
       "      <th>date</th>\n",
       "      <th>stock_id</th>\n",
       "      <th>open</th>\n",
       "      <th>high</th>\n",
       "      <th>low</th>\n",
       "      <th>close</th>\n",
       "      <th>volume</th>\n",
       "      <th>vol_ma_50</th>\n",
       "      <th>prc_ma_50</th>\n",
       "      <th>earnings</th>\n",
       "      <th>candle_type</th>\n",
       "      <th>low_tl</th>\n",
       "      <th>high_tl</th>\n",
       "      <th>volume_criteria</th>\n",
       "      <th>start_point_low</th>\n",
       "      <th>start_point_high</th>\n",
       "    </tr>\n",
       "  </thead>\n",
       "  <tbody>\n",
       "    <tr>\n",
       "      <th>0</th>\n",
       "      <td>1112742</td>\n",
       "      <td>2014-02-20</td>\n",
       "      <td>505</td>\n",
       "      <td>34.43</td>\n",
       "      <td>35.67</td>\n",
       "      <td>34.43</td>\n",
       "      <td>35.66</td>\n",
       "      <td>9539448</td>\n",
       "      <td>13237427.74</td>\n",
       "      <td>29.75</td>\n",
       "      <td>0</td>\n",
       "      <td>1</td>\n",
       "      <td>0</td>\n",
       "      <td>0</td>\n",
       "      <td>0</td>\n",
       "      <td>0</td>\n",
       "      <td>0</td>\n",
       "    </tr>\n",
       "    <tr>\n",
       "      <th>1</th>\n",
       "      <td>1112743</td>\n",
       "      <td>2014-02-21</td>\n",
       "      <td>505</td>\n",
       "      <td>35.78</td>\n",
       "      <td>36.45</td>\n",
       "      <td>35.75</td>\n",
       "      <td>36.17</td>\n",
       "      <td>7821334</td>\n",
       "      <td>12537203.76</td>\n",
       "      <td>29.98</td>\n",
       "      <td>0</td>\n",
       "      <td>1</td>\n",
       "      <td>0</td>\n",
       "      <td>1</td>\n",
       "      <td>0</td>\n",
       "      <td>0</td>\n",
       "      <td>0</td>\n",
       "    </tr>\n",
       "    <tr>\n",
       "      <th>2</th>\n",
       "      <td>1112744</td>\n",
       "      <td>2014-02-24</td>\n",
       "      <td>505</td>\n",
       "      <td>36.20</td>\n",
       "      <td>36.66</td>\n",
       "      <td>36.02</td>\n",
       "      <td>36.65</td>\n",
       "      <td>7022370</td>\n",
       "      <td>12309845.18</td>\n",
       "      <td>30.22</td>\n",
       "      <td>0</td>\n",
       "      <td>1</td>\n",
       "      <td>1</td>\n",
       "      <td>0</td>\n",
       "      <td>0</td>\n",
       "      <td>0</td>\n",
       "      <td>0</td>\n",
       "    </tr>\n",
       "    <tr>\n",
       "      <th>3</th>\n",
       "      <td>1112745</td>\n",
       "      <td>2014-02-25</td>\n",
       "      <td>505</td>\n",
       "      <td>36.63</td>\n",
       "      <td>37.15</td>\n",
       "      <td>36.51</td>\n",
       "      <td>37.00</td>\n",
       "      <td>8991389</td>\n",
       "      <td>11721759.18</td>\n",
       "      <td>30.44</td>\n",
       "      <td>0</td>\n",
       "      <td>1</td>\n",
       "      <td>1</td>\n",
       "      <td>1</td>\n",
       "      <td>0</td>\n",
       "      <td>0</td>\n",
       "      <td>0</td>\n",
       "    </tr>\n",
       "    <tr>\n",
       "      <th>4</th>\n",
       "      <td>1112746</td>\n",
       "      <td>2014-02-26</td>\n",
       "      <td>505</td>\n",
       "      <td>37.12</td>\n",
       "      <td>37.28</td>\n",
       "      <td>36.58</td>\n",
       "      <td>36.75</td>\n",
       "      <td>10516864</td>\n",
       "      <td>11539437.84</td>\n",
       "      <td>30.67</td>\n",
       "      <td>0</td>\n",
       "      <td>0</td>\n",
       "      <td>1</td>\n",
       "      <td>1</td>\n",
       "      <td>0</td>\n",
       "      <td>0</td>\n",
       "      <td>0</td>\n",
       "    </tr>\n",
       "  </tbody>\n",
       "</table>\n",
       "</div>"
      ],
      "text/plain": [
       "        id        date  stock_id   open   high    low  close    volume  \\\n",
       "0  1112742  2014-02-20       505  34.43  35.67  34.43  35.66   9539448   \n",
       "1  1112743  2014-02-21       505  35.78  36.45  35.75  36.17   7821334   \n",
       "2  1112744  2014-02-24       505  36.20  36.66  36.02  36.65   7022370   \n",
       "3  1112745  2014-02-25       505  36.63  37.15  36.51  37.00   8991389   \n",
       "4  1112746  2014-02-26       505  37.12  37.28  36.58  36.75  10516864   \n",
       "\n",
       "     vol_ma_50 prc_ma_50  earnings  candle_type  low_tl  high_tl  \\\n",
       "0  13237427.74     29.75         0            1       0        0   \n",
       "1  12537203.76     29.98         0            1       0        1   \n",
       "2  12309845.18     30.22         0            1       1        0   \n",
       "3  11721759.18     30.44         0            1       1        1   \n",
       "4  11539437.84     30.67         0            0       1        1   \n",
       "\n",
       "   volume_criteria  start_point_low  start_point_high  \n",
       "0                0                0                 0  \n",
       "1                0                0                 0  \n",
       "2                0                0                 0  \n",
       "3                0                0                 0  \n",
       "4                0                0                 0  "
      ]
     },
     "metadata": {},
     "output_type": "display_data"
    }
   ],
   "source": [
    "display(df.head())"
   ]
  },
  {
   "cell_type": "markdown",
   "metadata": {},
   "source": [
    "# Create Variables needed to calculate trendlines"
   ]
  },
  {
   "cell_type": "code",
   "execution_count": 5,
   "metadata": {},
   "outputs": [],
   "source": [
    "num_rows = len(df)\n",
    "high_arr = df['high'].values.astype(np.float64)\n",
    "close_arr = df['close'].values.astype(np.float64)\n",
    "trendline_breach_df = pd.DataFrame(columns=['start', 'end', 'breach', 'gradient', 'intercept'])"
   ]
  },
  {
   "cell_type": "markdown",
   "metadata": {},
   "source": [
    "# Use pandas filtering to get eligible starting points indexes"
   ]
  },
  {
   "cell_type": "markdown",
   "metadata": {},
   "source": [
    "1. earnings == 0: no earnings on that day\n",
    "2. high_tl == 1: trendline connecting highs\n",
    "3. volume_criteria == 1: volume on that day is higher that the 50 day moving average"
   ]
  },
  {
   "cell_type": "code",
   "execution_count": 6,
   "metadata": {},
   "outputs": [],
   "source": [
    "def get_starting_points(df): #High Trendlines\n",
    "    c1 = df['earnings']  == 0\n",
    "    c2 = df['high_tl']  == 1\n",
    "    c3 = df['volume_criteria']  == 1\n",
    "    combined = c1 & c2 & c3\n",
    "    return df[combined].index.to_numpy()"
   ]
  },
  {
   "cell_type": "code",
   "execution_count": 7,
   "metadata": {},
   "outputs": [],
   "source": [
    "starting_points = get_starting_points(df)"
   ]
  },
  {
   "cell_type": "code",
   "execution_count": 8,
   "metadata": {},
   "outputs": [
    {
     "data": {
      "text/plain": [
       "array([ 8, 10, 28, 29, 33, 34, 35, 36, 37, 38], dtype=int64)"
      ]
     },
     "metadata": {},
     "output_type": "display_data"
    }
   ],
   "source": [
    "display(starting_points[:10])"
   ]
  },
  {
   "cell_type": "markdown",
   "metadata": {},
   "source": [
    "# Main Loop to calculate eligible trendlines\n",
    "## Some functions required to calculate trendlines"
   ]
  },
  {
   "cell_type": "code",
   "execution_count": 9,
   "metadata": {},
   "outputs": [],
   "source": [
    "def get_gradient_arr(start_point_x, start_point_y, x_arr, y_arr):\n",
    "    gradient_arr = (y_arr - start_point_y) / (x_arr - start_point_x)\n",
    "    return gradient_arr\n",
    "\n",
    "def get_intercept_arr(start_point_x, start_point_y, gradient_arr):\n",
    "    intercept_arr = start_point_y - (gradient_arr * start_point_x)\n",
    "    return intercept_arr\n",
    "\n",
    "def create_discrete_trendline_y_arr(gradient, intercept, x_arr):\n",
    "    trendline_y_arr = (gradient * x_arr) + intercept\n",
    "    return trendline_y_arr\n",
    "\n",
    "def arr_compare_close_arr_to_2D_array(df_arr, n_dim_trendline_arr):\n",
    "    comparison = df_arr > n_dim_trendline_arr\n",
    "    index_arr = np.argmax(comparison, axis=1)\n",
    "    return index_arr"
   ]
  },
  {
   "cell_type": "markdown",
   "metadata": {},
   "source": [
    "## Steps:\n",
    "1. Loop through each eligible starting point `def get_starting_points(df)`\n",
    "2. Get the high price of the starting point\n",
    "3. Create high price array and index array from the starting point + 1 to the end of the price data\n",
    "4. Bulk calculate gradients and intercepts from the starting point to every other point in the future and store it in a array\n",
    "5. Pre Create a 2D array to store all the trendlines 'y' data for the purpose of comparing to the high price\n",
    "6. Compare high price to trendline 'y' data for each day. If all high price < trendline 'y' data, the trendline is eligible\n",
    "7. Further check when this trendline has been breached. It is breach when close > trendline 'y'\n",
    "8. Store the data for eligible trendlines in a df with columns 'start', 'end', 'breach', 'intercept', 'gradient'"
   ]
  },
  {
   "cell_type": "code",
   "execution_count": 10,
   "metadata": {},
   "outputs": [
    {
     "name": "stderr",
     "output_type": "stream",
     "text": [
      "C:\\Users\\yyy\\AppData\\Local\\Temp\\ipykernel\\xxx.py:63: FutureWarning: The behavior of DataFrame concatenation with empty or all-NA entries is deprecated. In a future version, this will no longer exclude empty or all-NA columns when determining the result dtypes. To retain the old behavior, exclude the relevant entries before the concat operation.\n",
      "  trendline_breach_df = pd.concat([trendline_breach_df, trendline_breach_df_temp])\n"
     ]
    },
    {
     "name": "stdout",
     "output_type": "stream",
     "text": [
      "--- 20.08881163597107 seconds ---\n"
     ]
    }
   ],
   "source": [
    "start_time = time.time()\n",
    "\n",
    "for start_point_index in range(len(starting_points)):\n",
    "    start_point_x = starting_points[start_point_index]\n",
    "    start_point_y = high_arr[start_point_x]\n",
    "\n",
    "    df_x_arr = np.arange(start_point_x+1, num_rows)\n",
    "    df_y_arr = high_arr[start_point_x+1:]\n",
    "\n",
    "    trendline_gradient_arr = get_gradient_arr(start_point_x, start_point_y, df_x_arr, df_y_arr)\n",
    "    trendline_intercept_arr = get_intercept_arr(start_point_x, start_point_y, trendline_gradient_arr)\n",
    "\n",
    "    num_trendlines = len(trendline_gradient_arr)\n",
    "    trendline_len = len(trendline_gradient_arr) + 1\n",
    "\n",
    "    all_trendline_arrays = np.full((num_trendlines, trendline_len), np.inf)\n",
    "    high_arr_for_comparison = high_arr[start_point_x:]\n",
    "\n",
    "    for trendline_index in range(num_trendlines):\n",
    "        end_point_x = start_point_x + (trendline_index + 1)\n",
    "        trendline_x_arr = np.arange(start_point_x, end_point_x + 1)\n",
    "        trendline_y_arr = create_discrete_trendline_y_arr(trendline_gradient_arr[trendline_index], trendline_intercept_arr[trendline_index], trendline_x_arr)\n",
    "\n",
    "        #To ensure comparison is always false for the first and last point (Due to floating point precision)\n",
    "        trendline_y_arr[0] = np.inf\n",
    "        trendline_y_arr[-1] = np.inf\n",
    "\n",
    "        all_trendline_arrays[trendline_index][:len(trendline_y_arr)] = trendline_y_arr\n",
    "\n",
    "    comparison_arr = arr_compare_close_arr_to_2D_array(high_arr_for_comparison, all_trendline_arrays)\n",
    "    indices_where_no_breach = np.where(comparison_arr == 0)[0]\n",
    "\n",
    "    no_breach_gradient_arr = trendline_gradient_arr[indices_where_no_breach]\n",
    "    no_breach_intercept_arr = trendline_intercept_arr[indices_where_no_breach]\n",
    "    no_breach_num_trendlines = len(no_breach_gradient_arr)\n",
    "    no_breach_trenline_len = num_rows - start_point_x\n",
    "\n",
    "    no_breach_trendline_arrays = np.full((no_breach_num_trendlines, no_breach_trenline_len), np.inf)\n",
    "    close_arr_for_comparison = close_arr[start_point_x:]\n",
    "\n",
    "    for no_breach_trendline_index in range(no_breach_num_trendlines):\n",
    "        no_breach_end_point_x = num_rows\n",
    "        no_breach_trendline_x_arr = np.arange(start_point_x, end_point_x + 1)\n",
    "        no_breach_trendline_y_arr = create_discrete_trendline_y_arr(no_breach_gradient_arr[no_breach_trendline_index], no_breach_intercept_arr[no_breach_trendline_index], no_breach_trendline_x_arr)\n",
    "\n",
    "        no_breach_trendline_arrays[no_breach_trendline_index][:len(no_breach_trendline_y_arr)] = no_breach_trendline_y_arr\n",
    "\n",
    "    no_breach_comparison_arr = arr_compare_close_arr_to_2D_array(close_arr_for_comparison, no_breach_trendline_arrays)\n",
    "\n",
    "    no_breach_indices_adjusted = indices_where_no_breach + 1 + start_point_x\n",
    "    close_breach_indices_adjusted = no_breach_comparison_arr + start_point_x\n",
    "\n",
    "    no_breach_start_arr = np.full((len(no_breach_indices_adjusted), ), start_point_x)\n",
    "\n",
    "    trendline_breach_df_temp = pd.DataFrame({\n",
    "        'start': no_breach_start_arr,\n",
    "        'end': no_breach_indices_adjusted,\n",
    "        'breach': close_breach_indices_adjusted,\n",
    "        'gradient': no_breach_gradient_arr,\n",
    "        'intercept': no_breach_intercept_arr\n",
    "    })\n",
    "\n",
    "    trendline_breach_df = pd.concat([trendline_breach_df, trendline_breach_df_temp])\n",
    "\n",
    "print(\"--- %s seconds ---\" % (time.time() - start_time))"
   ]
  },
  {
   "cell_type": "code",
   "execution_count": 11,
   "metadata": {},
   "outputs": [
    {
     "data": {
      "text/html": [
       "<div>\n",
       "<style scoped>\n",
       "    .dataframe tbody tr th:only-of-type {\n",
       "        vertical-align: middle;\n",
       "    }\n",
       "\n",
       "    .dataframe tbody tr th {\n",
       "        vertical-align: top;\n",
       "    }\n",
       "\n",
       "    .dataframe thead th {\n",
       "        text-align: right;\n",
       "    }\n",
       "</style>\n",
       "<table border=\"1\" class=\"dataframe\">\n",
       "  <thead>\n",
       "    <tr style=\"text-align: right;\">\n",
       "      <th></th>\n",
       "      <th>start</th>\n",
       "      <th>end</th>\n",
       "      <th>breach</th>\n",
       "      <th>gradient</th>\n",
       "      <th>intercept</th>\n",
       "    </tr>\n",
       "  </thead>\n",
       "  <tbody>\n",
       "    <tr>\n",
       "      <th>0</th>\n",
       "      <td>8</td>\n",
       "      <td>9</td>\n",
       "      <td>10</td>\n",
       "      <td>0.570</td>\n",
       "      <td>32.90</td>\n",
       "    </tr>\n",
       "    <tr>\n",
       "      <th>1</th>\n",
       "      <td>8</td>\n",
       "      <td>10</td>\n",
       "      <td>8</td>\n",
       "      <td>0.935</td>\n",
       "      <td>29.98</td>\n",
       "    </tr>\n",
       "    <tr>\n",
       "      <th>0</th>\n",
       "      <td>10</td>\n",
       "      <td>11</td>\n",
       "      <td>54</td>\n",
       "      <td>-0.040</td>\n",
       "      <td>39.73</td>\n",
       "    </tr>\n",
       "    <tr>\n",
       "      <th>1</th>\n",
       "      <td>10</td>\n",
       "      <td>12</td>\n",
       "      <td>10</td>\n",
       "      <td>0.275</td>\n",
       "      <td>36.58</td>\n",
       "    </tr>\n",
       "    <tr>\n",
       "      <th>0</th>\n",
       "      <td>28</td>\n",
       "      <td>29</td>\n",
       "      <td>28</td>\n",
       "      <td>0.710</td>\n",
       "      <td>18.31</td>\n",
       "    </tr>\n",
       "  </tbody>\n",
       "</table>\n",
       "</div>"
      ],
      "text/plain": [
       "  start end breach  gradient  intercept\n",
       "0     8   9     10     0.570      32.90\n",
       "1     8  10      8     0.935      29.98\n",
       "0    10  11     54    -0.040      39.73\n",
       "1    10  12     10     0.275      36.58\n",
       "0    28  29     28     0.710      18.31"
      ]
     },
     "metadata": {},
     "output_type": "display_data"
    }
   ],
   "source": [
    "display(trendline_breach_df.head())"
   ]
  },
  {
   "cell_type": "markdown",
   "metadata": {},
   "source": [
    "# Calculate number of touches for each trendline"
   ]
  },
  {
   "cell_type": "markdown",
   "metadata": {},
   "source": [
    "## Steps\n",
    "1. Pre create 2D array to store trendline 'y' data. Fill it with np.inf. This data will span the whole length of the df.\n",
    "2. Calculate trendline 'y' data from start point to breach point, store it in an array\n",
    "3. Populate the 2D array with the trendline 'y' data, starting from the start point onwards. The rest of the elements in the array will remain as inf.\n",
    "4. Bulk compare this 2D array with df['high'].values data. Set a threshold for what considers a 'touch' on the trendline."
   ]
  },
  {
   "cell_type": "code",
   "execution_count": 12,
   "metadata": {},
   "outputs": [],
   "source": [
    "trendline_breach_df['breach_diff'] = trendline_breach_df['breach'] - trendline_breach_df['end']\n",
    "trendline_breach_df = trendline_breach_df[trendline_breach_df['breach_diff'] > 0]"
   ]
  },
  {
   "cell_type": "code",
   "execution_count": 13,
   "metadata": {},
   "outputs": [
    {
     "data": {
      "text/html": [
       "<div>\n",
       "<style scoped>\n",
       "    .dataframe tbody tr th:only-of-type {\n",
       "        vertical-align: middle;\n",
       "    }\n",
       "\n",
       "    .dataframe tbody tr th {\n",
       "        vertical-align: top;\n",
       "    }\n",
       "\n",
       "    .dataframe thead th {\n",
       "        text-align: right;\n",
       "    }\n",
       "</style>\n",
       "<table border=\"1\" class=\"dataframe\">\n",
       "  <thead>\n",
       "    <tr style=\"text-align: right;\">\n",
       "      <th></th>\n",
       "      <th>start</th>\n",
       "      <th>end</th>\n",
       "      <th>breach</th>\n",
       "      <th>gradient</th>\n",
       "      <th>intercept</th>\n",
       "      <th>breach_diff</th>\n",
       "    </tr>\n",
       "  </thead>\n",
       "  <tbody>\n",
       "    <tr>\n",
       "      <th>0</th>\n",
       "      <td>8</td>\n",
       "      <td>9</td>\n",
       "      <td>10</td>\n",
       "      <td>0.570000</td>\n",
       "      <td>32.900000</td>\n",
       "      <td>1</td>\n",
       "    </tr>\n",
       "    <tr>\n",
       "      <th>0</th>\n",
       "      <td>10</td>\n",
       "      <td>11</td>\n",
       "      <td>54</td>\n",
       "      <td>-0.040000</td>\n",
       "      <td>39.730000</td>\n",
       "      <td>43</td>\n",
       "    </tr>\n",
       "    <tr>\n",
       "      <th>0</th>\n",
       "      <td>29</td>\n",
       "      <td>30</td>\n",
       "      <td>34</td>\n",
       "      <td>-0.460000</td>\n",
       "      <td>52.240000</td>\n",
       "      <td>4</td>\n",
       "    </tr>\n",
       "    <tr>\n",
       "      <th>1</th>\n",
       "      <td>29</td>\n",
       "      <td>34</td>\n",
       "      <td>39</td>\n",
       "      <td>-0.380000</td>\n",
       "      <td>49.920000</td>\n",
       "      <td>5</td>\n",
       "    </tr>\n",
       "    <tr>\n",
       "      <th>2</th>\n",
       "      <td>29</td>\n",
       "      <td>35</td>\n",
       "      <td>42</td>\n",
       "      <td>-0.253333</td>\n",
       "      <td>46.246667</td>\n",
       "      <td>7</td>\n",
       "    </tr>\n",
       "  </tbody>\n",
       "</table>\n",
       "</div>"
      ],
      "text/plain": [
       "  start end breach  gradient  intercept breach_diff\n",
       "0     8   9     10  0.570000  32.900000           1\n",
       "0    10  11     54 -0.040000  39.730000          43\n",
       "0    29  30     34 -0.460000  52.240000           4\n",
       "1    29  34     39 -0.380000  49.920000           5\n",
       "2    29  35     42 -0.253333  46.246667           7"
      ]
     },
     "metadata": {},
     "output_type": "display_data"
    }
   ],
   "source": [
    "display(trendline_breach_df.head())"
   ]
  },
  {
   "cell_type": "code",
   "execution_count": 14,
   "metadata": {},
   "outputs": [],
   "source": [
    "num_eligible_trendlines = len(trendline_breach_df)"
   ]
  },
  {
   "cell_type": "code",
   "execution_count": 15,
   "metadata": {},
   "outputs": [],
   "source": [
    "eligible_trendlines_arr = np.full((num_eligible_trendlines, num_rows), np.inf)"
   ]
  },
  {
   "cell_type": "code",
   "execution_count": 16,
   "metadata": {},
   "outputs": [],
   "source": [
    "eligible_trendline_start_arr = trendline_breach_df['start'].values\n",
    "eligible_trendline_breach_arr = trendline_breach_df['breach'].values\n",
    "eligible_trendline_gradient_arr = trendline_breach_df['gradient'].values\n",
    "eligible_trendline_intercept_arr = trendline_breach_df['intercept'].values"
   ]
  },
  {
   "cell_type": "code",
   "execution_count": 17,
   "metadata": {},
   "outputs": [],
   "source": [
    "for eligible_trendline_start_point_index in range(num_eligible_trendlines):\n",
    "    eligible_trendline_start_point_x = eligible_trendline_start_arr[eligible_trendline_start_point_index]\n",
    "    eligible_trendline_breach_point_x = eligible_trendline_breach_arr[eligible_trendline_start_point_index]\n",
    "\n",
    "    eligible_trendline_x_arr = np.arange(eligible_trendline_start_point_x, eligible_trendline_breach_point_x + 1)\n",
    "    eligible_trendline_y_arr = create_discrete_trendline_y_arr(eligible_trendline_gradient_arr[eligible_trendline_start_point_index], eligible_trendline_intercept_arr[eligible_trendline_start_point_index], eligible_trendline_x_arr)\n",
    "\n",
    "    eligible_trendlines_arr[eligible_trendline_start_point_index][eligible_trendline_start_point_x:eligible_trendline_breach_point_x + 1] = eligible_trendline_y_arr"
   ]
  },
  {
   "cell_type": "code",
   "execution_count": 18,
   "metadata": {},
   "outputs": [
    {
     "data": {
      "text/plain": [
       "array([inf, inf, inf, ..., inf, inf, inf])"
      ]
     },
     "metadata": {},
     "output_type": "display_data"
    }
   ],
   "source": [
    "display(eligible_trendlines_arr[-1])"
   ]
  },
  {
   "cell_type": "code",
   "execution_count": 19,
   "metadata": {},
   "outputs": [],
   "source": [
    "def check_num_touches_on_trendline(high_arr, eligible_trendlines_arr, threshold):\n",
    "    pct_diff = (eligible_trendlines_arr - high_arr) / high_arr\n",
    "    pct_diff = np.abs(pct_diff)\n",
    "    pct_diff = pct_diff < threshold\n",
    "    num_touches = np.sum(pct_diff, axis=1)\n",
    "    return num_touches"
   ]
  },
  {
   "cell_type": "code",
   "execution_count": 20,
   "metadata": {},
   "outputs": [],
   "source": [
    "num_touches = check_num_touches_on_trendline(high_arr, eligible_trendlines_arr, 0.01)"
   ]
  },
  {
   "cell_type": "code",
   "execution_count": 21,
   "metadata": {},
   "outputs": [
    {
     "data": {
      "text/plain": [
       "array([2, 8, 4, ..., 2, 3, 3])"
      ]
     },
     "metadata": {},
     "output_type": "display_data"
    }
   ],
   "source": [
    "display(num_touches)"
   ]
  },
  {
   "cell_type": "code",
   "execution_count": 22,
   "metadata": {},
   "outputs": [],
   "source": [
    "trendline_breach_df['num_touches'] = num_touches"
   ]
  },
  {
   "cell_type": "code",
   "execution_count": 23,
   "metadata": {},
   "outputs": [
    {
     "data": {
      "text/html": [
       "<div>\n",
       "<style scoped>\n",
       "    .dataframe tbody tr th:only-of-type {\n",
       "        vertical-align: middle;\n",
       "    }\n",
       "\n",
       "    .dataframe tbody tr th {\n",
       "        vertical-align: top;\n",
       "    }\n",
       "\n",
       "    .dataframe thead th {\n",
       "        text-align: right;\n",
       "    }\n",
       "</style>\n",
       "<table border=\"1\" class=\"dataframe\">\n",
       "  <thead>\n",
       "    <tr style=\"text-align: right;\">\n",
       "      <th></th>\n",
       "      <th>start</th>\n",
       "      <th>end</th>\n",
       "      <th>breach</th>\n",
       "      <th>gradient</th>\n",
       "      <th>intercept</th>\n",
       "      <th>breach_diff</th>\n",
       "      <th>num_touches</th>\n",
       "    </tr>\n",
       "  </thead>\n",
       "  <tbody>\n",
       "    <tr>\n",
       "      <th>0</th>\n",
       "      <td>8</td>\n",
       "      <td>9</td>\n",
       "      <td>10</td>\n",
       "      <td>0.570000</td>\n",
       "      <td>32.900000</td>\n",
       "      <td>1</td>\n",
       "      <td>2</td>\n",
       "    </tr>\n",
       "    <tr>\n",
       "      <th>0</th>\n",
       "      <td>10</td>\n",
       "      <td>11</td>\n",
       "      <td>54</td>\n",
       "      <td>-0.040000</td>\n",
       "      <td>39.730000</td>\n",
       "      <td>43</td>\n",
       "      <td>8</td>\n",
       "    </tr>\n",
       "    <tr>\n",
       "      <th>0</th>\n",
       "      <td>29</td>\n",
       "      <td>30</td>\n",
       "      <td>34</td>\n",
       "      <td>-0.460000</td>\n",
       "      <td>52.240000</td>\n",
       "      <td>4</td>\n",
       "      <td>4</td>\n",
       "    </tr>\n",
       "    <tr>\n",
       "      <th>1</th>\n",
       "      <td>29</td>\n",
       "      <td>34</td>\n",
       "      <td>39</td>\n",
       "      <td>-0.380000</td>\n",
       "      <td>49.920000</td>\n",
       "      <td>5</td>\n",
       "      <td>4</td>\n",
       "    </tr>\n",
       "    <tr>\n",
       "      <th>2</th>\n",
       "      <td>29</td>\n",
       "      <td>35</td>\n",
       "      <td>42</td>\n",
       "      <td>-0.253333</td>\n",
       "      <td>46.246667</td>\n",
       "      <td>7</td>\n",
       "      <td>5</td>\n",
       "    </tr>\n",
       "  </tbody>\n",
       "</table>\n",
       "</div>"
      ],
      "text/plain": [
       "  start end breach  gradient  intercept breach_diff  num_touches\n",
       "0     8   9     10  0.570000  32.900000           1            2\n",
       "0    10  11     54 -0.040000  39.730000          43            8\n",
       "0    29  30     34 -0.460000  52.240000           4            4\n",
       "1    29  34     39 -0.380000  49.920000           5            4\n",
       "2    29  35     42 -0.253333  46.246667           7            5"
      ]
     },
     "metadata": {},
     "output_type": "display_data"
    }
   ],
   "source": [
    "display(trendline_breach_df.head())"
   ]
  },
  {
   "cell_type": "code",
   "execution_count": 24,
   "metadata": {},
   "outputs": [],
   "source": [
    "trendline_breach_df.to_csv('trendline_breach_df_new.csv', index=False)"
   ]
  }
 ],
 "metadata": {
  "kernelspec": {
   "display_name": "base",
   "language": "python",
   "name": "python3"
  },
  "language_info": {
   "codemirror_mode": {
    "name": "ipython",
    "version": 3
   },
   "file_extension": ".py",
   "mimetype": "text/x-python",
   "name": "python",
   "nbconvert_exporter": "python",
   "pygments_lexer": "ipython3",
   "version": "3.11.5"
  }
 },
 "nbformat": 4,
 "nbformat_minor": 2
}
